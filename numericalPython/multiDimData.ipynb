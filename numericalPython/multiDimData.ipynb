{
 "cells": [
  {
   "cell_type": "code",
   "execution_count": 47,
   "metadata": {},
   "outputs": [],
   "source": [
    "import numpy as np\n",
    "import pandas as pd\n",
    "import matplotlib.pyplot as plt"
   ]
  },
  {
   "cell_type": "markdown",
   "metadata": {},
   "source": [
    "### Importing data with numpy"
   ]
  },
  {
   "cell_type": "code",
   "execution_count": 41,
   "metadata": {},
   "outputs": [],
   "source": [
    "data = np.loadtxt('data/test.txt')"
   ]
  },
  {
   "cell_type": "code",
   "execution_count": 66,
   "metadata": {},
   "outputs": [
    {
     "data": {
      "text/plain": [
       "(33,)"
      ]
     },
     "execution_count": 66,
     "metadata": {},
     "output_type": "execute_result"
    }
   ],
   "source": [
    "data[:, 0].shape"
   ]
  },
  {
   "cell_type": "code",
   "execution_count": 56,
   "metadata": {},
   "outputs": [
    {
     "data": {
      "text/plain": [
       "(33, 4)"
      ]
     },
     "execution_count": 56,
     "metadata": {},
     "output_type": "execute_result"
    }
   ],
   "source": [
    "data.shape"
   ]
  },
  {
   "cell_type": "code",
   "execution_count": null,
   "metadata": {},
   "outputs": [],
   "source": [
    "x,y,z,a = np.loadtxt('data/test.txt', unpack=True)"
   ]
  },
  {
   "cell_type": "code",
   "execution_count": 25,
   "metadata": {},
   "outputs": [
    {
     "data": {
      "text/plain": [
       "(array([0.00024588, 0.00025886, 0.00028621, 0.00044304, 0.00050432,\n",
       "        0.00058186, 0.00075732, 0.00095102, 0.00113244, 0.00116682,\n",
       "        0.00159733, 0.00168282, 0.00174508, 0.00177853, 0.00190433,\n",
       "        0.00191969, 0.00196013, 0.00201787, 0.00214802, 0.00240788,\n",
       "        0.00240941, 0.00241375, 0.00243315, 0.00247152, 0.00249018,\n",
       "        0.00263336, 0.00265419, 0.00286541, 0.00295157, 0.00328339,\n",
       "        0.00345674, 0.00350551, 0.00362332]),\n",
       " array([2692., 2693., 2693., 2693., 2692., 2693., 2693., 2692., 2693.,\n",
       "        2693., 2692., 2693., 2694., 2695., 2696., 2695., 2696., 2695.,\n",
       "        2696., 2696., 2697., 2696., 2695., 2695., 2695., 2694., 2695.,\n",
       "        2696., 2696., 2695., 2695., 2696., 2696.]),\n",
       " array([2266., 2266., 2265., 2264., 2264., 2264., 2263., 2263., 2263.,\n",
       "        2262., 2262., 2262., 2262., 2262., 2262., 2262., 2262., 2263.,\n",
       "        2263., 2262., 2262., 2263., 2264., 2263., 2262., 2263., 2263.,\n",
       "        2263., 2262., 2263., 2262., 2262., 2261.]),\n",
       " array([1.28207, 1.28192, 1.28179, 1.28166, 1.28182, 1.28166, 1.28153,\n",
       "        1.28169, 1.28153, 1.28141, 1.28156, 1.28141, 1.28125, 1.2811 ,\n",
       "        1.28094, 1.2811 , 1.28094, 1.28122, 1.28107, 1.28094, 1.28078,\n",
       "        1.28107, 1.28135, 1.28122, 1.2811 , 1.28138, 1.28122, 1.28107,\n",
       "        1.28094, 1.28122, 1.2811 , 1.28094, 1.28081]))"
      ]
     },
     "execution_count": 25,
     "metadata": {},
     "output_type": "execute_result"
    }
   ],
   "source": [
    "x, y, z, a"
   ]
  },
  {
   "cell_type": "markdown",
   "metadata": {},
   "source": [
    "### Importing data with pandas"
   ]
  },
  {
   "cell_type": "code",
   "execution_count": 36,
   "metadata": {},
   "outputs": [],
   "source": [
    "df = pd.read_csv('data/test.txt', sep = '\\t', names=['x', 'y', 'z', 'a'])"
   ]
  },
  {
   "cell_type": "code",
   "execution_count": 72,
   "metadata": {},
   "outputs": [
    {
     "data": {
      "text/plain": [
       "array([2266, 2266, 2265, 2264, 2264, 2264, 2263, 2263, 2263, 2262, 2262,\n",
       "       2262, 2262, 2262, 2262, 2262, 2262, 2263, 2263, 2262, 2262, 2263,\n",
       "       2264, 2263, 2262, 2263, 2263, 2263, 2262, 2263, 2262, 2262, 2261])"
      ]
     },
     "execution_count": 72,
     "metadata": {},
     "output_type": "execute_result"
    }
   ],
   "source": [
    "df['z'].values"
   ]
  },
  {
   "cell_type": "code",
   "execution_count": 20,
   "metadata": {},
   "outputs": [
    {
     "name": "stdout",
     "output_type": "stream",
     "text": [
      "0.000245882\t2692\t2266\t1.28207\r\n",
      "0.000258856\t2693\t2266\t1.28192\r\n",
      "0.000286213\t2693\t2265\t1.28179\r\n",
      "0.000443036\t2693\t2264\t1.28166\r\n",
      "0.000504317\t2692\t2264\t1.28182\r\n",
      "0.00058186\t2693\t2264\t1.28166\r\n",
      "0.000757318\t2693\t2263\t1.28153\r\n",
      "0.000951015\t2692\t2263\t1.28169\r\n",
      "0.00113244\t2693\t2263\t1.28153\r\n",
      "0.00116682\t2693\t2262\t1.28141\r\n",
      "0.00159733\t2692\t2262\t1.28156\r\n",
      "0.00168282\t2693\t2262\t1.28141\r\n",
      "0.00174508\t2694\t2262\t1.28125\r\n",
      "0.00177853\t2695\t2262\t1.2811\r\n",
      "0.00190433\t2696\t2262\t1.28094\r\n",
      "0.00191969\t2695\t2262\t1.2811\r\n",
      "0.00196013\t2696\t2262\t1.28094\r\n",
      "0.00201787\t2695\t2263\t1.28122\r\n",
      "0.00214802\t2696\t2263\t1.28107\r\n",
      "0.00240788\t2696\t2262\t1.28094\r\n",
      "0.00240941\t2697\t2262\t1.28078\r\n",
      "0.00241375\t2696\t2263\t1.28107\r\n",
      "0.00243315\t2695\t2264\t1.28135\r\n",
      "0.00247152\t2695\t2263\t1.28122\r\n",
      "0.00249018\t2695\t2262\t1.2811\r\n",
      "0.00263336\t2694\t2263\t1.28138\r\n",
      "0.00265419\t2695\t2263\t1.28122\r\n",
      "0.00286541\t2696\t2263\t1.28107\r\n",
      "0.00295157\t2696\t2262\t1.28094\r\n",
      "0.00328339\t2695\t2263\t1.28122\r\n",
      "0.00345674\t2695\t2262\t1.2811\r\n",
      "0.00350551\t2696\t2262\t1.28094\r\n",
      "0.00362332\t2696\t2261\t1.28081\r\n"
     ]
    }
   ],
   "source": [
    "! cat data/test.txt"
   ]
  },
  {
   "cell_type": "code",
   "execution_count": 28,
   "metadata": {},
   "outputs": [],
   "source": [
    "pd.read_csv?"
   ]
  },
  {
   "cell_type": "code",
   "execution_count": null,
   "metadata": {},
   "outputs": [],
   "source": []
  }
 ],
 "metadata": {
  "kernelspec": {
   "display_name": "Python 3",
   "language": "python",
   "name": "python3"
  },
  "language_info": {
   "codemirror_mode": {
    "name": "ipython",
    "version": 3
   },
   "file_extension": ".py",
   "mimetype": "text/x-python",
   "name": "python",
   "nbconvert_exporter": "python",
   "pygments_lexer": "ipython3",
   "version": "3.7.6"
  }
 },
 "nbformat": 4,
 "nbformat_minor": 4
}
