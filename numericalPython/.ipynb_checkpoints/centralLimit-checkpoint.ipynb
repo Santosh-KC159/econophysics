{
 "cells": [
  {
   "cell_type": "code",
   "execution_count": 2,
   "metadata": {},
   "outputs": [],
   "source": [
    "import numpy as np\n",
    "import matplotlib.pyplot as plt"
   ]
  },
  {
   "cell_type": "code",
   "execution_count": 18,
   "metadata": {},
   "outputs": [],
   "source": [
    "#Creating an array consist of random numbers with poisson distribution with length of 100000\n",
    "size = 100000\n",
    "poisson = np.random.poisson(5, size)"
   ]
  },
  {
   "cell_type": "code",
   "execution_count": 19,
   "metadata": {},
   "outputs": [
    {
     "data": {
      "image/png": "[encoded data removed]",
      "text/plain": [
       "<Figure size 432x288 with 1 Axes>"
      ]
     },
     "metadata": {
      "needs_background": "light"
     },
     "output_type": "display_data"
    }
   ],
   "source": [
    "#plt.hist function can make a histogram based on the timeseries. we can set bins to whatever number we want.\n",
    "plt.hist(poisson, bins = 15);"
   ]
  },
  {
   "cell_type": "code",
   "execution_count": 24,
   "metadata": {},
   "outputs": [],
   "source": [
    "# The most basic and scratchy! way of testing centeral limit theorem based on pure python\n",
    "step = 10                               #setting the size of course graining which sum every 'step' numbers\n",
    "cent = []                               #creating a list holder to hold average of every 'step' numbers\n",
    "for i in range(0,size, step):           #\n",
    "    ave = 0\n",
    "    for j in range(i, i + step,1):\n",
    "        ave += poisson[j]\n",
    "    cent.append(ave/step)"
   ]
  },
  {
   "cell_type": "code",
   "execution_count": 28,
   "metadata": {},
   "outputs": [
    {
     "data": {
      "image/png": "[encoded data removed]",
      "text/plain": [
       "<Figure size 432x288 with 1 Axes>"
      ]
     },
     "metadata": {
      "needs_background": "light"
     },
     "output_type": "display_data"
    }
   ],
   "source": [
    "plt.hist(cent);"
   ]
  },
  {
   "cell_type": "code",
   "execution_count": 22,
   "metadata": {},
   "outputs": [],
   "source": [
    "step = 10\n",
    "cent_poiss = []\n",
    "\n",
    "for i in range(0,size,step):\n",
    "    ave = 0\n",
    "    for j in range(i, i+10,1):\n",
    "        ave += poisson[j]\n",
    "    cent_poiss.append(ave/step)"
   ]
  },
  {
   "cell_type": "code",
   "execution_count": null,
   "metadata": {},
   "outputs": [],
   "source": [
    "plt.figure(figsize=(15,4))\n",
    "plt.subplot(1,2,1)\n",
    "plt.hist(poisson,15, edgecolor='black')\n",
    "plt.subplot(1,2,2)\n",
    "plt.hist(cent_poiss,15, edgecolor='black');"
   ]
  },
  {
   "cell_type": "code",
   "execution_count": null,
   "metadata": {},
   "outputs": [],
   "source": [
    "step = 10\n",
    "cent_poiss = []\n",
    "for i in range(0,size,step):\n",
    "    cent_poiss.append(np.mean(poisson[i:i+step]))"
   ]
  },
  {
   "cell_type": "code",
   "execution_count": 33,
   "metadata": {},
   "outputs": [
    {
     "data": {
      "text/plain": [
       "10000"
      ]
     },
     "execution_count": 33,
     "metadata": {},
     "output_type": "execute_result"
    }
   ],
   "source": [
    "step = 10\n",
    "cent_arr = np.zeros(int(size/step))\n",
    "len(cent_arr)"
   ]
  },
  {
   "cell_type": "code",
   "execution_count": 35,
   "metadata": {},
   "outputs": [],
   "source": [
    "for i in range(0,size,step):\n",
    "    cent_arr[int(i/step)] = np.mean(poisson[i:i+step])"
   ]
  },
  {
   "cell_type": "code",
   "execution_count": 38,
   "metadata": {},
   "outputs": [
    {
     "data": {
      "image/png": "[encoded data removed]",
      "text/plain": [
       "<Figure size 432x288 with 1 Axes>"
      ]
     },
     "metadata": {
      "needs_background": "light"
     },
     "output_type": "display_data"
    }
   ],
   "source": [
    "plt.hist(cent_arr,10);"
   ]
  },
  {
   "cell_type": "code",
   "execution_count": null,
   "metadata": {},
   "outputs": [],
   "source": [
    "# Close numpy style\n",
    "step = 10\n",
    "cent_poiss = np.zeros(int(size/step))\n",
    "\n",
    "for i in range(0,size,step):\n",
    "    cent_poiss[int(i/10)] = np.sum(poisson[i:i+step])"
   ]
  },
  {
   "cell_type": "code",
   "execution_count": null,
   "metadata": {},
   "outputs": [],
   "source": [
    "# Pure numpy style\n",
    "plt.hist(np.mean(uniform.reshape(-1, 10), axis=1))"
   ]
  },
  {
   "cell_type": "code",
   "execution_count": null,
   "metadata": {},
   "outputs": [],
   "source": [
    "print(poisson.reshape(-1, 10).shape), print(poisson.reshape(1000, 10).shape)\n",
    "print(np.mean(poisson.reshape(-1, 10), axis=1).shape)"
   ]
  },
  {
   "cell_type": "code",
   "execution_count": null,
   "metadata": {},
   "outputs": [],
   "source": [
    "poisson.reshape(1000, 10)"
   ]
  },
  {
   "cell_type": "code",
   "execution_count": null,
   "metadata": {},
   "outputs": [],
   "source": [
    "plt.hist(np.mean(poisson.reshape(1000, 10), axis=1));\n",
    "#plt.hist(poisson.reshape(1000, 10))"
   ]
  },
  {
   "cell_type": "code",
   "execution_count": null,
   "metadata": {},
   "outputs": [],
   "source": [
    "plt.figure(figsize=(10,4))\n",
    "plt.subplot(1,2,1)\n",
    "plt.hist(poisson,20);\n",
    "plt.subplot(1,2,2)\n",
    "plt.hist(cent_poiss, 20, alpha = 0.5);"
   ]
  },
  {
   "cell_type": "code",
   "execution_count": null,
   "metadata": {},
   "outputs": [],
   "source": [
    "def central_function(timeserie, segment):\n",
    "    timeserie = np.array(timeserie)\n",
    "    central = np.mean(timeserie.reshape(-1, segment), axis = 1)\n",
    "    return central\n"
   ]
  },
  {
   "cell_type": "code",
   "execution_count": 47,
   "metadata": {},
   "outputs": [
    {
     "data": {
      "text/plain": [
       "(10000, 10)"
      ]
     },
     "execution_count": 47,
     "metadata": {},
     "output_type": "execute_result"
    }
   ],
   "source": [
    "poisson.reshape(10000,10).shape"
   ]
  },
  {
   "cell_type": "code",
   "execution_count": 52,
   "metadata": {},
   "outputs": [
    {
     "data": {
      "text/plain": [
       "(array([   6.,   69.,  552., 1546., 2554., 3060., 1454.,  605.,  123.,\n",
       "          31.]),\n",
       " array([2.3 , 2.84, 3.38, 3.92, 4.46, 5.  , 5.54, 6.08, 6.62, 7.16, 7.7 ]),\n",
       " <a list of 10 Patch objects>)"
      ]
     },
     "execution_count": 52,
     "metadata": {},
     "output_type": "execute_result"
    },
    {
     "data": {
      "image/png": "[encoded data removed]",
      "text/plain": [
       "<Figure size 432x288 with 1 Axes>"
      ]
     },
     "metadata": {
      "needs_background": "light"
     },
     "output_type": "display_data"
    }
   ],
   "source": [
    "plt.hist(np.mean(poisson.reshape(10000,10), axis = 1))"
   ]
  },
  {
   "cell_type": "code",
   "execution_count": 49,
   "metadata": {},
   "outputs": [
    {
     "data": {
      "text/plain": [
       "array([[6, 5, 6, ..., 5, 5, 6],\n",
       "       [4, 6, 6, ..., 6, 4, 1],\n",
       "       [1, 8, 2, ..., 6, 8, 7],\n",
       "       ...,\n",
       "       [3, 3, 2, ..., 9, 3, 5],\n",
       "       [6, 8, 5, ..., 4, 6, 6],\n",
       "       [2, 6, 4, ..., 5, 7, 4]])"
      ]
     },
     "execution_count": 49,
     "metadata": {},
     "output_type": "execute_result"
    }
   ],
   "source": [
    "poisson.reshape(10000,10)"
   ]
  },
  {
   "cell_type": "code",
   "execution_count": null,
   "metadata": {},
   "outputs": [],
   "source": []
  }
 ],
 "metadata": {
  "kernelspec": {
   "display_name": "Python 3",
   "language": "python",
   "name": "python3"
  },
  "language_info": {
   "codemirror_mode": {
    "name": "ipython",
    "version": 3
   },
   "file_extension": ".py",
   "mimetype": "text/x-python",
   "name": "python",
   "nbconvert_exporter": "python",
   "pygments_lexer": "ipython3",
   "version": "3.7.6"
  }
 },
 "nbformat": 4,
 "nbformat_minor": 4
}
