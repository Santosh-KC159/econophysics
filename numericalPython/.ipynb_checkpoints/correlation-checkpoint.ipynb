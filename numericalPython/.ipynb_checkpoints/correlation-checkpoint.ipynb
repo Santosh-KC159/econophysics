{
 "cells": [
  {
   "cell_type": "code",
   "execution_count": 1,
   "metadata": {},
   "outputs": [],
   "source": [
    "import pandas as pd\n",
    "import numpy as np\n",
    "import matplotlib.pyplot as plt\n",
    "import seaborn as sns\n",
    "%matplotlib inline\n",
    "from scipy.stats.stats import pearsonr\n",
    "sns.set_style('darkgrid')\n",
    "import os"
   ]
  },
  {
   "cell_type": "code",
   "execution_count": 9,
   "metadata": {},
   "outputs": [],
   "source": [
    "pearsonr?"
   ]
  },
  {
   "cell_type": "markdown",
   "metadata": {},
   "source": [
    "$$ r = \\frac{\\sum (x - m_x) (y - m_y)}\n",
    "             {\\sqrt{\\sum (x - m_x)^2 \\sum (y - m_y)^2}} $$"
   ]
  },
  {
   "cell_type": "code",
   "execution_count": 76,
   "metadata": {},
   "outputs": [],
   "source": [
    "length = 100\n",
    "x = np.random.normal(0, 10, length)\n",
    "y = x + np.random.normal(0, 10, length)"
   ]
  },
  {
   "cell_type": "code",
   "execution_count": 77,
   "metadata": {},
   "outputs": [
    {
     "data": {
      "text/plain": [
       "<matplotlib.collections.PathCollection at 0x1283aab50>"
      ]
     },
     "execution_count": 77,
     "metadata": {},
     "output_type": "execute_result"
    },
    {
     "data": {
      "image/png": "[encoded data removed]",
      "text/plain": [
       "<Figure size 432x288 with 1 Axes>"
      ]
     },
     "metadata": {},
     "output_type": "display_data"
    }
   ],
   "source": [
    "plt.scatter(x, y, linewidths=0.02)"
   ]
  },
  {
   "cell_type": "code",
   "execution_count": 30,
   "metadata": {},
   "outputs": [],
   "source": [
    "plt.scatter?"
   ]
  },
  {
   "cell_type": "markdown",
   "metadata": {},
   "source": [
    "$$ dot(x,y) = {\\sum x_i  y_i} $$\n",
    "             "
   ]
  },
  {
   "cell_type": "code",
   "execution_count": 78,
   "metadata": {},
   "outputs": [],
   "source": [
    "def dot_product(x1, x2):\n",
    "    dot = 0\n",
    "    for i in range(len(x1)):\n",
    "        dot += x1[i] * x2[i]\n",
    "    return dot"
   ]
  },
  {
   "cell_type": "code",
   "execution_count": 81,
   "metadata": {},
   "outputs": [
    {
     "data": {
      "text/plain": [
       "9191.777660495196"
      ]
     },
     "execution_count": 81,
     "metadata": {},
     "output_type": "execute_result"
    }
   ],
   "source": [
    "dot_product(x, y)"
   ]
  },
  {
   "cell_type": "code",
   "execution_count": 83,
   "metadata": {},
   "outputs": [
    {
     "data": {
      "text/plain": [
       "9191.77766049519"
      ]
     },
     "execution_count": 83,
     "metadata": {},
     "output_type": "execute_result"
    }
   ],
   "source": [
    "np.dot(x, y)"
   ]
  },
  {
   "cell_type": "code",
   "execution_count": 82,
   "metadata": {
    "scrolled": true
   },
   "outputs": [
    {
     "data": {
      "text/plain": [
       "0.6959355532905982"
      ]
     },
     "execution_count": 82,
     "metadata": {},
     "output_type": "execute_result"
    }
   ],
   "source": [
    "np.dot(x, y)/(np.std(x)* np.std(y)) / length"
   ]
  },
  {
   "cell_type": "code",
   "execution_count": 84,
   "metadata": {},
   "outputs": [
    {
     "data": {
      "text/plain": [
       "0.6896596777684282"
      ]
     },
     "execution_count": 84,
     "metadata": {},
     "output_type": "execute_result"
    }
   ],
   "source": [
    "pearsonr(x,y)[0]"
   ]
  },
  {
   "cell_type": "code",
   "execution_count": 16,
   "metadata": {},
   "outputs": [],
   "source": [
    "path = '../data/stock_dfs'\n",
    "names = os.listdir(path)[:20]"
   ]
  },
  {
   "cell_type": "code",
   "execution_count": 96,
   "metadata": {},
   "outputs": [
    {
     "data": {
      "text/plain": [
       "'CSCO'"
      ]
     },
     "execution_count": 96,
     "metadata": {},
     "output_type": "execute_result"
    }
   ],
   "source": [
    "names[0][:-4]"
   ]
  },
  {
   "cell_type": "code",
   "execution_count": 17,
   "metadata": {},
   "outputs": [
    {
     "name": "stdout",
     "output_type": "stream",
     "text": [
      "                 CSCO        UAL        TROW        ISRG          NVR  \\\n",
      "Date                                                                    \n",
      "2019-06-07  54.244591  83.269997  102.618179  499.040009  3391.000000   \n",
      "2019-06-10  54.719818  82.669998  103.860970  509.720001  3402.350098   \n",
      "2019-06-11  55.389030  82.769997  103.569687  506.559998  3370.820068   \n",
      "2019-06-12  54.176701  83.790001  102.783226  501.920013  3395.000000   \n",
      "2019-06-13  54.477356  87.110001  103.751404  505.600006  3395.810059   \n",
      "\n",
      "                 PRGO        TPR        DVN          CE        MRO  \\\n",
      "Date                                                                 \n",
      "2019-06-07  43.477894  28.972601  25.137054   98.704704  13.140017   \n",
      "2019-06-10  43.270485  28.704424  25.557800  100.149345  13.278229   \n",
      "2019-06-11  43.448265  28.464983  25.538229  101.135223  13.238739   \n",
      "2019-06-12  42.905037  27.612564  24.931574  101.701370  12.853720   \n",
      "2019-06-13  43.468018  28.675692  25.648396  102.745819  13.110398   \n",
      "\n",
      "                    BA        VRTX       GILD       NLSN        EQIX  \\\n",
      "Date                                                                   \n",
      "2019-06-07  347.400269  173.509995  62.952099  22.223776  491.173615   \n",
      "2019-06-10  347.498444  172.839996  63.693851  21.930717  497.485352   \n",
      "2019-06-11  343.108063  172.000000  63.674576  22.018635  495.735321   \n",
      "2019-06-12  340.849030  170.630005  64.329628  22.272621  495.174957   \n",
      "2019-06-13  342.646423  168.889999  65.146515  22.634064  498.743713   \n",
      "\n",
      "                  TIF        MDT           V       QRVO          A  \n",
      "Date                                                                \n",
      "2019-06-07  88.490150  95.043739  168.992935  64.379997  68.897186  \n",
      "2019-06-10  90.123596  95.670120  169.758133  65.500000  69.660294  \n",
      "2019-06-11  90.074692  95.484169  169.251297  64.309998  69.462082  \n",
      "2019-06-12  89.399796  95.454796  170.523346  62.779999  69.660294  \n",
      "2019-06-13  89.165047  95.425446  168.297272  63.310001  69.670197  \n"
     ]
    }
   ],
   "source": [
    "main_df = pd.DataFrame()\n",
    "\n",
    "for name in names:\n",
    "    adds = os.path.join(path, name)\n",
    "    df = pd.read_csv('{}'.format(adds))\n",
    "    df.set_index('Date', inplace=True)\n",
    "\n",
    "    df.rename(columns={'Adj Close':name[:-4]}, inplace=True)\n",
    "    df.drop(['Open','High','Low','Close','Volume'],1,inplace=True)\n",
    "\n",
    "    if main_df.empty:\n",
    "        main_df = df\n",
    "    else:\n",
    "        main_df = main_df.join(df, how='outer')\n",
    "        \n",
    "print(main_df.head())\n",
    "#main_df.to_csv('sp500_joined_closes.csv')"
   ]
  },
  {
   "cell_type": "code",
   "execution_count": null,
   "metadata": {},
   "outputs": [
    {
     "data": {
      "text/plain": [
       "<seaborn.axisgrid.PairGrid at 0x1274a3190>"
      ]
     },
     "execution_count": 24,
     "metadata": {},
     "output_type": "execute_result"
    }
   ],
   "source": [
    "sns.pairplot(main_df.head(5), kind='reg')"
   ]
  },
  {
   "cell_type": "code",
   "execution_count": 18,
   "metadata": {},
   "outputs": [
    {
     "data": {
      "text/plain": [
       "<matplotlib.axes._subplots.AxesSubplot at 0x125aa1f50>"
      ]
     },
     "execution_count": 18,
     "metadata": {},
     "output_type": "execute_result"
    },
    {
     "data": {
      "image/png": "[encoded data removed]",
      "text/plain": [
       "<Figure size 432x288 with 2 Axes>"
      ]
     },
     "metadata": {
      "needs_background": "light"
     },
     "output_type": "display_data"
    }
   ],
   "source": [
    "sns.heatmap(main_df.corr(), cmap=\"YlGnBu\")"
   ]
  },
  {
   "cell_type": "code",
   "execution_count": 5,
   "metadata": {},
   "outputs": [],
   "source": [
    "sns.pairplot?"
   ]
  },
  {
   "cell_type": "code",
   "execution_count": 14,
   "metadata": {},
   "outputs": [],
   "source": [
    "sns.heatmap?"
   ]
  },
  {
   "cell_type": "code",
   "execution_count": 20,
   "metadata": {},
   "outputs": [
    {
     "data": {
      "text/plain": [
       "UAL     1.000000\n",
       "BA      0.978618\n",
       "MRO     0.953033\n",
       "NLSN    0.942935\n",
       "DVN     0.922265\n",
       "CE      0.915604\n",
       "TPR     0.907738\n",
       "NVR     0.765255\n",
       "CSCO    0.679834\n",
       "MDT     0.595198\n",
       "ISRG    0.498858\n",
       "TROW    0.370488\n",
       "V       0.353471\n",
       "PRGO    0.147067\n",
       "A       0.092149\n",
       "QRVO   -0.016236\n",
       "TIF    -0.406724\n",
       "VRTX   -0.696135\n",
       "EQIX   -0.710626\n",
       "GILD   -0.899307\n",
       "Name: UAL, dtype: float64"
      ]
     },
     "execution_count": 20,
     "metadata": {},
     "output_type": "execute_result"
    }
   ],
   "source": [
    "main_df.corr()['UAL'].sort_values(ascending=False)"
   ]
  },
  {
   "cell_type": "code",
   "execution_count": null,
   "metadata": {},
   "outputs": [],
   "source": []
  }
 ],
 "metadata": {
  "kernelspec": {
   "display_name": "Python 3",
   "language": "python",
   "name": "python3"
  },
  "language_info": {
   "codemirror_mode": {
    "name": "ipython",
    "version": 3
   },
   "file_extension": ".py",
   "mimetype": "text/x-python",
   "name": "python",
   "nbconvert_exporter": "python",
   "pygments_lexer": "ipython3",
   "version": "3.7.6"
  }
 },
 "nbformat": 4,
 "nbformat_minor": 4
}
