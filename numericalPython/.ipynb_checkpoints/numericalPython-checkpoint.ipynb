{
 "cells": [
  {
   "cell_type": "markdown",
   "metadata": {},
   "source": [
    "# Numerical programming with Python\n"
   ]
  },
  {
   "cell_type": "markdown",
   "metadata": {},
   "source": [
    "### Ipython Notebook\n",
    "IPython is a command shell for interactive computing in multiple programming languages, originally developed for the Python programming language, that offers introspection, rich media, shell syntax, tab completion, and history. IPython provides the following features: Interactive shells\n",
    "<img src=\"images/ipykernel.png\" width=\"600\">\n",
    "BLAS is a collection of low-level matrix and vector arithmetic operations (“multiply a vector by a scalar”, “multiply two matrices and add to a third ..."
   ]
  },
  {
   "cell_type": "markdown",
   "metadata": {},
   "source": [
    "### Numpy\n",
    "NumPy is a library for the Python programming language, adding support for large, multi-dimensional arrays and matrices, along with a large collection of high-level mathematical functions to operate on these arrays.\n",
    "\n"
   ]
  },
  {
   "cell_type": "markdown",
   "metadata": {},
   "source": [
    "#### Creating Arrays\n",
    "|Function name| Description  |\n",
    "|---|---|\n",
    "|  np.array | Creates an array for which the elements are given by an array-like object, which, for example, can be a (nested) Python list, a tuple, an iterable sequence, or another ndarray instance.  |\n",
    "| np.zeros  |  Creates an array – with the specified dimensions and data type – that is filled with zeros. |\n",
    "| np.ones  | Creates an array – with the specified dimensions and data type – that is filled with ones. |\n",
    "| np.diag  | Creates a diagonal array with specified values along the diagonal, and zeros elsewhere. |\n",
    "| np.arange  | Creates an array with evenly spaced values between specified start, end, and increment values. |\n",
    "| np.linspace |    |\n",
    "| np.logspace |    |\n",
    "| np.loadtxt |    |\n"
   ]
  },
  {
   "cell_type": "code",
   "execution_count": 35,
   "metadata": {},
   "outputs": [
    {
     "ename": "TypeError",
     "evalue": "'float' object cannot be interpreted as an integer",
     "output_type": "error",
     "traceback": [
      "\u001b[0;31m---------------------------------------------------------------------------\u001b[0m",
      "\u001b[0;31mTypeError\u001b[0m                                 Traceback (most recent call last)",
      "\u001b[0;32m<ipython-input-35-cfd75dbbd1d4>\u001b[0m in \u001b[0;36m<module>\u001b[0;34m\u001b[0m\n\u001b[1;32m      1\u001b[0m \u001b[0;31m#a = 1.5\u001b[0m\u001b[0;34m\u001b[0m\u001b[0;34m\u001b[0m\u001b[0;34m\u001b[0m\u001b[0m\n\u001b[1;32m      2\u001b[0m \u001b[0;31m#list_one = [1., 2, 'three', True]\u001b[0m\u001b[0;34m\u001b[0m\u001b[0;34m\u001b[0m\u001b[0;34m\u001b[0m\u001b[0m\n\u001b[0;32m----> 3\u001b[0;31m \u001b[0mlist\u001b[0m\u001b[0;34m(\u001b[0m\u001b[0mrange\u001b[0m\u001b[0;34m(\u001b[0m\u001b[0;36m5\u001b[0m\u001b[0;34m,\u001b[0m\u001b[0;36m20\u001b[0m\u001b[0;34m,\u001b[0m\u001b[0;36m0.1\u001b[0m\u001b[0;34m)\u001b[0m\u001b[0;34m)\u001b[0m \u001b[0;34m*\u001b[0m \u001b[0;36m2\u001b[0m\u001b[0;34m\u001b[0m\u001b[0;34m\u001b[0m\u001b[0m\n\u001b[0m",
      "\u001b[0;31mTypeError\u001b[0m: 'float' object cannot be interpreted as an integer"
     ]
    }
   ],
   "source": [
    "#a = 1.5\n",
    "#list_one = [1., 2, 'three', True]\n",
    "list(range(5,20,0.1)) * 2"
   ]
  },
  {
   "cell_type": "code",
   "execution_count": 22,
   "metadata": {},
   "outputs": [],
   "source": [
    "import numpy as np"
   ]
  },
  {
   "cell_type": "code",
   "execution_count": 23,
   "metadata": {},
   "outputs": [
    {
     "data": {
      "text/plain": [
       "array([1, 2, 3, 4])"
      ]
     },
     "execution_count": 23,
     "metadata": {},
     "output_type": "execute_result"
    }
   ],
   "source": [
    "np.array([1,2,3,4])"
   ]
  },
  {
   "cell_type": "code",
   "execution_count": 34,
   "metadata": {},
   "outputs": [],
   "source": [
    "np.diag?"
   ]
  },
  {
   "cell_type": "code",
   "execution_count": 36,
   "metadata": {},
   "outputs": [
    {
     "data": {
      "text/plain": [
       "array([10. , 10.5, 11. , 11.5, 12. , 12.5, 13. , 13.5, 14. , 14.5, 15. ,\n",
       "       15.5, 16. , 16.5, 17. , 17.5, 18. , 18.5, 19. , 19.5])"
      ]
     },
     "execution_count": 36,
     "metadata": {},
     "output_type": "execute_result"
    }
   ],
   "source": [
    "np.arange(10,20,0.5)"
   ]
  },
  {
   "cell_type": "code",
   "execution_count": null,
   "metadata": {},
   "outputs": [],
   "source": [
    "arr = np.array([1, 2, 3, 4, 5])\n",
    "arr1 = np.ones(10)\n",
    "arr2 = np.zeros(10)\n",
    "arr3 = np.ones(10) * 2\n",
    "arr4 = np.diag(arr1)\n",
    "arr5 = np.arange(1,10,0.5)"
   ]
  },
  {
   "cell_type": "code",
   "execution_count": null,
   "metadata": {},
   "outputs": [],
   "source": [
    "arr, arr1, arr2, arr3, arr4, arr5"
   ]
  },
  {
   "cell_type": "code",
   "execution_count": null,
   "metadata": {},
   "outputs": [],
   "source": []
  },
  {
   "cell_type": "markdown",
   "metadata": {},
   "source": []
  },
  {
   "cell_type": "markdown",
   "metadata": {},
   "source": [
    "#### The Numpy Array Object\n",
    "\n",
    "|Attribute| Description  |\n",
    "|---|---|\n",
    "|  shape | A tuple that contains the number of elements (i.e., the length) for each dimension (axis) of the array.  |\n",
    "| ndim  |  The total number of elements in the array. Number of dimensions (axes). |\n",
    "| dtype  |  The data type of the elements in the array. |\n",
    "\n",
    "    "
   ]
  },
  {
   "cell_type": "code",
   "execution_count": 45,
   "metadata": {},
   "outputs": [],
   "source": [
    "np_list = np.array([[1.0,2,3,4],[1,2,3,4]])"
   ]
  },
  {
   "cell_type": "code",
   "execution_count": 46,
   "metadata": {},
   "outputs": [
    {
     "data": {
      "text/plain": [
       "array([[1., 2., 3., 4.],\n",
       "       [1., 2., 3., 4.]])"
      ]
     },
     "execution_count": 46,
     "metadata": {},
     "output_type": "execute_result"
    }
   ],
   "source": [
    "np_list"
   ]
  },
  {
   "cell_type": "code",
   "execution_count": 47,
   "metadata": {},
   "outputs": [
    {
     "data": {
      "text/plain": [
       "dtype('float64')"
      ]
     },
     "execution_count": 47,
     "metadata": {},
     "output_type": "execute_result"
    }
   ],
   "source": [
    "np_list.dtype"
   ]
  },
  {
   "cell_type": "code",
   "execution_count": null,
   "metadata": {},
   "outputs": [],
   "source": [
    "multi_dim_list = np.array([[1,2,3],[4,5,6]])"
   ]
  },
  {
   "cell_type": "code",
   "execution_count": null,
   "metadata": {},
   "outputs": [],
   "source": [
    "multi_dim_list.ndim"
   ]
  },
  {
   "cell_type": "code",
   "execution_count": null,
   "metadata": {},
   "outputs": [],
   "source": [
    "multi_dim_list.shape"
   ]
  },
  {
   "cell_type": "markdown",
   "metadata": {},
   "source": [
    "#### Indexing and Slicing\n",
    "\n",
    "|Expression| Description  |\n",
    "|---|---|\n",
    "| a[m] | Select element at index m, where m is an integer (start counting form 0).  |\n",
    "| a[-m]  |  Select the mth element from the end of the list, where m is an integer. |\n",
    "| a[m:n]  |  Select elements with index starting at m and ending at n − 1 (m and n are integers). |\n",
    "| a[:n] | Select elements starting with index 0 and going up to index n − 1 (integer).|\n",
    "| a[m:n:p] | Select elements with index m through n (exclusive), with increment p. |\n",
    "| a[::-1] | Select all the elements, in reverse order. |\n",
    "    "
   ]
  },
  {
   "cell_type": "code",
   "execution_count": 48,
   "metadata": {},
   "outputs": [],
   "source": [
    "a = np.arange(0,50)"
   ]
  },
  {
   "cell_type": "code",
   "execution_count": 56,
   "metadata": {},
   "outputs": [
    {
     "data": {
      "text/plain": [
       "array([49, 48, 47, 46, 45, 44, 43, 42, 41, 40, 39, 38, 37, 36, 35, 34, 33,\n",
       "       32, 31, 30, 29, 28, 27, 26, 25, 24, 23, 22, 21, 20, 19, 18, 17, 16,\n",
       "       15, 14, 13, 12, 11, 10,  9,  8,  7,  6,  5,  4,  3,  2,  1,  0])"
      ]
     },
     "execution_count": 56,
     "metadata": {},
     "output_type": "execute_result"
    }
   ],
   "source": []
  },
  {
   "cell_type": "markdown",
   "metadata": {},
   "source": [
    "#### Reshaping and Resizing\n",
    "\n",
    "|Expression| Description  |\n",
    "|---|---|\n",
    "| np.reshape | Reshape an N-dimensional array. The total number of elements must remain the same. |\n",
    "| np.ndarray.flatten  |  Create a copy of an N-dimensional array and reinterpret it as a one- dimensional array (that is, all dimensions are collapsed into one). |\n",
    "| np.transpose  |  Transpose the array. The transpose operation corresponds to reversing (or more generally, permuting) the axes of the array. |\n",
    "| np.resize | Resize an array. Creates a new copy of the original array, with the requested size. If necessary, the orignal array will repeated to fill up the new array. |\n",
    "| np.append | Append an element to an array. Creates a new copy of the array. |\n",
    "| np.insert | Insert a new element at a given position. Creates a new copy of the array. |\n",
    "    "
   ]
  },
  {
   "cell_type": "code",
   "execution_count": 59,
   "metadata": {},
   "outputs": [],
   "source": [
    "b = np.array([[1,2,3],[3,4,5]])"
   ]
  },
  {
   "cell_type": "code",
   "execution_count": 72,
   "metadata": {},
   "outputs": [],
   "source": [
    "list_ = [1,2,3,4]\n",
    "list_.insert(2,'one')"
   ]
  },
  {
   "cell_type": "code",
   "execution_count": 73,
   "metadata": {},
   "outputs": [
    {
     "data": {
      "text/plain": [
       "[1, 2, 'one', 3, 4]"
      ]
     },
     "execution_count": 73,
     "metadata": {},
     "output_type": "execute_result"
    }
   ],
   "source": [
    "list_"
   ]
  },
  {
   "cell_type": "markdown",
   "metadata": {},
   "source": [
    "#### Elementwise Functions\n",
    "\n",
    "|Numpy function| Description  |\n",
    "|---|---|\n",
    "| np.cos, np.sin, np.tan | Trigonometric functions. |\n",
    "| np.arccos, np.arcsin. np.arctan  |  Inverse trigonometric functions. |\n",
    "| np.cosh, np.sinh, np.tanh  |  Hyperbolic trigonometric functions. |\n",
    "| np.arccosh, np.arcsinh, np.arctanh | Inverse hyperbolic trigonometric functions. |\n",
    "| np.sqrt | Square root. |\n",
    "| np.exp | Exponential. |\n",
    "| np.log, np.log2, np.log10 | Logarithms of base e, 2, and 10, respectively. |\n",
    "    "
   ]
  },
  {
   "cell_type": "code",
   "execution_count": 74,
   "metadata": {},
   "outputs": [],
   "source": [
    "from math import sin"
   ]
  },
  {
   "cell_type": "code",
   "execution_count": 78,
   "metadata": {},
   "outputs": [
    {
     "data": {
      "text/plain": [
       "array([ 0.84147098,  0.90929743,  0.14112001, -0.7568025 ])"
      ]
     },
     "execution_count": 78,
     "metadata": {},
     "output_type": "execute_result"
    }
   ],
   "source": [
    "list_ = [1, 2,3,4]\n",
    "np.sin(list_)"
   ]
  },
  {
   "cell_type": "markdown",
   "metadata": {},
   "source": [
    "#### Reshaping and Resizing\n",
    "\n",
    "|Expression| Description  |\n",
    "|---|---|\n",
    "|np.add, np.subtract, np.multiply, np.divide | Addition, subtraction, multiplication and division of two NumPy arrays. |\n",
    "| np.power  |  Raise first input argument to the power of the second input argument (applied elementwise). |\n",
    "| np.real, np.imag, np.conj  |  The real part, imaginary part, and the complex conjugate of the elements in the input arrays. |\n",
    "| np.sign, np.abs | The sign and the absolute value. |\n",
    "| np.round | Round to a given number of decimals. |\n",
    "    "
   ]
  },
  {
   "cell_type": "code",
   "execution_count": 79,
   "metadata": {},
   "outputs": [
    {
     "data": {
      "text/plain": [
       "array([ 1,  4, 27])"
      ]
     },
     "execution_count": 79,
     "metadata": {},
     "output_type": "execute_result"
    }
   ],
   "source": [
    "list1 = np.array([1,2,3])\n",
    "list2 = np.array([1,2,3])\n"
   ]
  },
  {
   "cell_type": "markdown",
   "metadata": {},
   "source": [
    "#### Aggregate Functions\n",
    "\n",
    "|Expression| Description  |\n",
    "|---|---|\n",
    "|np.mean, np.std, np.var | Statistical features of numpy arrays. |\n",
    "| np.sum  |  Sum of all elements. |\n",
    "| np.min, np.max  |  The minimum / maximum value in an array. |\n",
    "| np.argmin, np.argmax | The index of the minimum / maximum value in an array. |\n",
    "\n",
    "    "
   ]
  },
  {
   "cell_type": "code",
   "execution_count": 93,
   "metadata": {},
   "outputs": [],
   "source": [
    "a = np.random.randint(20,100, 100)\n",
    "normal = np.random.normal(0, 10, 100)"
   ]
  },
  {
   "cell_type": "code",
   "execution_count": 100,
   "metadata": {},
   "outputs": [
    {
     "data": {
      "text/plain": [
       "21.37901396255748"
      ]
     },
     "execution_count": 100,
     "metadata": {},
     "output_type": "execute_result"
    }
   ],
   "source": [
    "normal[62]"
   ]
  },
  {
   "cell_type": "code",
   "execution_count": 101,
   "metadata": {},
   "outputs": [
    {
     "data": {
      "text/plain": [
       "21.37901396255748"
      ]
     },
     "execution_count": 101,
     "metadata": {},
     "output_type": "execute_result"
    }
   ],
   "source": [
    "normal.max()"
   ]
  },
  {
   "cell_type": "markdown",
   "metadata": {},
   "source": [
    "#### Matrix and Vector Operations\n",
    "\n",
    "|Expression| Description  |\n",
    "|---|---|\n",
    "|np.dot | Matrix multiplication (dot product) between two given arrays representing vectors, arrays, or tensors. |\n",
    "| np.cross  |  The cross product between two arrays that represent vectors. |\n",
    "| np.tensordot  |  Dot product along specified axes of multidimensional arrays. |\n",
    "\n",
    "\n",
    "    "
   ]
  },
  {
   "cell_type": "code",
   "execution_count": null,
   "metadata": {},
   "outputs": [],
   "source": []
  }
 ],
 "metadata": {
  "kernelspec": {
   "display_name": "Python 3",
   "language": "python",
   "name": "python3"
  },
  "language_info": {
   "codemirror_mode": {
    "name": "ipython",
    "version": 3
   },
   "file_extension": ".py",
   "mimetype": "text/x-python",
   "name": "python",
   "nbconvert_exporter": "python",
   "pygments_lexer": "ipython3",
   "version": "3.7.6"
  }
 },
 "nbformat": 4,
 "nbformat_minor": 4
}
