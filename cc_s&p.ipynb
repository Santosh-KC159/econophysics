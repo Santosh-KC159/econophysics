{
 "cells": [
  {
   "cell_type": "code",
   "execution_count": 26,
   "metadata": {},
   "outputs": [],
   "source": [
    "import pandas as pd\n",
    "import numpy as np\n",
    "from statsmodels.tsa.stattools import ccf\n",
    "import os\n",
    "import matplotlib.pyplot as plt\n",
    "import seaborn as sns\n",
    "sns.set_style('darkgrid')"
   ]
  },
  {
   "cell_type": "code",
   "execution_count": 2,
   "metadata": {},
   "outputs": [],
   "source": [
    "path = 'data/stock_dfs/'\n",
    "names = os.listdir(path)"
   ]
  },
  {
   "cell_type": "code",
   "execution_count": 3,
   "metadata": {},
   "outputs": [
    {
     "data": {
      "text/plain": [
       "'CSCO'"
      ]
     },
     "execution_count": 3,
     "metadata": {},
     "output_type": "execute_result"
    }
   ],
   "source": [
    "names[0][:-4]"
   ]
  },
  {
   "cell_type": "code",
   "execution_count": 4,
   "metadata": {},
   "outputs": [],
   "source": [
    "main_df = pd.DataFrame()\n",
    "for name in names[:10]:\n",
    "    add = os.path.join(path, name)\n",
    "    df = pd.read_csv(add, index_col=0)\n",
    "    df.rename(columns={'Adj Close': name[:-4]}, inplace=True)\n",
    "    df.drop(['Open', 'High', 'Low', 'Close', 'Volume'], 1, inplace=True)\n",
    "    if main_df.empty:\n",
    "        main_df = df\n",
    "    else:\n",
    "        main_df = main_df.join(df, how='outer')"
   ]
  },
  {
   "cell_type": "code",
   "execution_count": 5,
   "metadata": {},
   "outputs": [],
   "source": [
    "corr = main_df.corr()"
   ]
  },
  {
   "cell_type": "code",
   "execution_count": 6,
   "metadata": {},
   "outputs": [
    {
     "data": {
      "text/html": [
       "<div>\n",
       "<style scoped>\n",
       "    .dataframe tbody tr th:only-of-type {\n",
       "        vertical-align: middle;\n",
       "    }\n",
       "\n",
       "    .dataframe tbody tr th {\n",
       "        vertical-align: top;\n",
       "    }\n",
       "\n",
       "    .dataframe thead th {\n",
       "        text-align: right;\n",
       "    }\n",
       "</style>\n",
       "<table border=\"1\" class=\"dataframe\">\n",
       "  <thead>\n",
       "    <tr style=\"text-align: right;\">\n",
       "      <th></th>\n",
       "      <th>CSCO</th>\n",
       "      <th>UAL</th>\n",
       "      <th>TROW</th>\n",
       "      <th>ISRG</th>\n",
       "      <th>NVR</th>\n",
       "      <th>PRGO</th>\n",
       "      <th>TPR</th>\n",
       "      <th>DVN</th>\n",
       "      <th>CE</th>\n",
       "      <th>MRO</th>\n",
       "    </tr>\n",
       "  </thead>\n",
       "  <tbody>\n",
       "    <tr>\n",
       "      <th>CSCO</th>\n",
       "      <td>1.000000</td>\n",
       "      <td>0.679834</td>\n",
       "      <td>0.085459</td>\n",
       "      <td>0.240337</td>\n",
       "      <td>0.354026</td>\n",
       "      <td>0.023018</td>\n",
       "      <td>0.774723</td>\n",
       "      <td>0.833347</td>\n",
       "      <td>0.486680</td>\n",
       "      <td>0.791257</td>\n",
       "    </tr>\n",
       "    <tr>\n",
       "      <th>UAL</th>\n",
       "      <td>0.679834</td>\n",
       "      <td>1.000000</td>\n",
       "      <td>0.370488</td>\n",
       "      <td>0.498858</td>\n",
       "      <td>0.765255</td>\n",
       "      <td>0.147067</td>\n",
       "      <td>0.907738</td>\n",
       "      <td>0.922265</td>\n",
       "      <td>0.915604</td>\n",
       "      <td>0.953033</td>\n",
       "    </tr>\n",
       "    <tr>\n",
       "      <th>TROW</th>\n",
       "      <td>0.085459</td>\n",
       "      <td>0.370488</td>\n",
       "      <td>1.000000</td>\n",
       "      <td>0.847089</td>\n",
       "      <td>0.733704</td>\n",
       "      <td>0.745040</td>\n",
       "      <td>0.480023</td>\n",
       "      <td>0.391131</td>\n",
       "      <td>0.514771</td>\n",
       "      <td>0.381554</td>\n",
       "    </tr>\n",
       "    <tr>\n",
       "      <th>ISRG</th>\n",
       "      <td>0.240337</td>\n",
       "      <td>0.498858</td>\n",
       "      <td>0.847089</td>\n",
       "      <td>1.000000</td>\n",
       "      <td>0.783309</td>\n",
       "      <td>0.642619</td>\n",
       "      <td>0.593495</td>\n",
       "      <td>0.512184</td>\n",
       "      <td>0.643793</td>\n",
       "      <td>0.500706</td>\n",
       "    </tr>\n",
       "    <tr>\n",
       "      <th>NVR</th>\n",
       "      <td>0.354026</td>\n",
       "      <td>0.765255</td>\n",
       "      <td>0.733704</td>\n",
       "      <td>0.783309</td>\n",
       "      <td>1.000000</td>\n",
       "      <td>0.522431</td>\n",
       "      <td>0.748813</td>\n",
       "      <td>0.702666</td>\n",
       "      <td>0.822428</td>\n",
       "      <td>0.719086</td>\n",
       "    </tr>\n",
       "    <tr>\n",
       "      <th>PRGO</th>\n",
       "      <td>0.023018</td>\n",
       "      <td>0.147067</td>\n",
       "      <td>0.745040</td>\n",
       "      <td>0.642619</td>\n",
       "      <td>0.522431</td>\n",
       "      <td>1.000000</td>\n",
       "      <td>0.256691</td>\n",
       "      <td>0.170803</td>\n",
       "      <td>0.314999</td>\n",
       "      <td>0.146567</td>\n",
       "    </tr>\n",
       "    <tr>\n",
       "      <th>TPR</th>\n",
       "      <td>0.774723</td>\n",
       "      <td>0.907738</td>\n",
       "      <td>0.480023</td>\n",
       "      <td>0.593495</td>\n",
       "      <td>0.748813</td>\n",
       "      <td>0.256691</td>\n",
       "      <td>1.000000</td>\n",
       "      <td>0.916745</td>\n",
       "      <td>0.780139</td>\n",
       "      <td>0.907589</td>\n",
       "    </tr>\n",
       "    <tr>\n",
       "      <th>DVN</th>\n",
       "      <td>0.833347</td>\n",
       "      <td>0.922265</td>\n",
       "      <td>0.391131</td>\n",
       "      <td>0.512184</td>\n",
       "      <td>0.702666</td>\n",
       "      <td>0.170803</td>\n",
       "      <td>0.916745</td>\n",
       "      <td>1.000000</td>\n",
       "      <td>0.828480</td>\n",
       "      <td>0.987368</td>\n",
       "    </tr>\n",
       "    <tr>\n",
       "      <th>CE</th>\n",
       "      <td>0.486680</td>\n",
       "      <td>0.915604</td>\n",
       "      <td>0.514771</td>\n",
       "      <td>0.643793</td>\n",
       "      <td>0.822428</td>\n",
       "      <td>0.314999</td>\n",
       "      <td>0.780139</td>\n",
       "      <td>0.828480</td>\n",
       "      <td>1.000000</td>\n",
       "      <td>0.871367</td>\n",
       "    </tr>\n",
       "    <tr>\n",
       "      <th>MRO</th>\n",
       "      <td>0.791257</td>\n",
       "      <td>0.953033</td>\n",
       "      <td>0.381554</td>\n",
       "      <td>0.500706</td>\n",
       "      <td>0.719086</td>\n",
       "      <td>0.146567</td>\n",
       "      <td>0.907589</td>\n",
       "      <td>0.987368</td>\n",
       "      <td>0.871367</td>\n",
       "      <td>1.000000</td>\n",
       "    </tr>\n",
       "  </tbody>\n",
       "</table>\n",
       "</div>"
      ],
      "text/plain": [
       "          CSCO       UAL      TROW      ISRG       NVR      PRGO       TPR  \\\n",
       "CSCO  1.000000  0.679834  0.085459  0.240337  0.354026  0.023018  0.774723   \n",
       "UAL   0.679834  1.000000  0.370488  0.498858  0.765255  0.147067  0.907738   \n",
       "TROW  0.085459  0.370488  1.000000  0.847089  0.733704  0.745040  0.480023   \n",
       "ISRG  0.240337  0.498858  0.847089  1.000000  0.783309  0.642619  0.593495   \n",
       "NVR   0.354026  0.765255  0.733704  0.783309  1.000000  0.522431  0.748813   \n",
       "PRGO  0.023018  0.147067  0.745040  0.642619  0.522431  1.000000  0.256691   \n",
       "TPR   0.774723  0.907738  0.480023  0.593495  0.748813  0.256691  1.000000   \n",
       "DVN   0.833347  0.922265  0.391131  0.512184  0.702666  0.170803  0.916745   \n",
       "CE    0.486680  0.915604  0.514771  0.643793  0.822428  0.314999  0.780139   \n",
       "MRO   0.791257  0.953033  0.381554  0.500706  0.719086  0.146567  0.907589   \n",
       "\n",
       "           DVN        CE       MRO  \n",
       "CSCO  0.833347  0.486680  0.791257  \n",
       "UAL   0.922265  0.915604  0.953033  \n",
       "TROW  0.391131  0.514771  0.381554  \n",
       "ISRG  0.512184  0.643793  0.500706  \n",
       "NVR   0.702666  0.822428  0.719086  \n",
       "PRGO  0.170803  0.314999  0.146567  \n",
       "TPR   0.916745  0.780139  0.907589  \n",
       "DVN   1.000000  0.828480  0.987368  \n",
       "CE    0.828480  1.000000  0.871367  \n",
       "MRO   0.987368  0.871367  1.000000  "
      ]
     },
     "execution_count": 6,
     "metadata": {},
     "output_type": "execute_result"
    }
   ],
   "source": [
    "corr"
   ]
  },
  {
   "cell_type": "code",
   "execution_count": 8,
   "metadata": {},
   "outputs": [
    {
     "data": {
      "image/png": "[encoded data removed]",
      "text/plain": [
       "<Figure size 432x288 with 2 Axes>"
      ]
     },
     "metadata": {
      "needs_background": "light"
     },
     "output_type": "display_data"
    }
   ],
   "source": [
    "plt.imshow(corr)\n",
    "plt.colorbar()\n",
    "plt.xticks(np.arange(len(corr.columns.tolist())),corr.columns, rotation=45);\n",
    "plt.yticks(np.arange(len(corr.columns.tolist())),corr.columns, rotation=45);"
   ]
  },
  {
   "cell_type": "code",
   "execution_count": 10,
   "metadata": {},
   "outputs": [
    {
     "data": {
      "text/plain": [
       "0"
      ]
     },
     "execution_count": 10,
     "metadata": {},
     "output_type": "execute_result"
    }
   ],
   "source": [
    "np.argmax(corr.values)"
   ]
  },
  {
   "cell_type": "code",
   "execution_count": 19,
   "metadata": {},
   "outputs": [],
   "source": [
    "MRO = main_df['MRO'].values"
   ]
  },
  {
   "cell_type": "code",
   "execution_count": 20,
   "metadata": {},
   "outputs": [],
   "source": [
    "DVN = main_df['DVN'].values"
   ]
  },
  {
   "cell_type": "code",
   "execution_count": 33,
   "metadata": {},
   "outputs": [],
   "source": [
    "UAL = main_df['UAL'].values"
   ]
  },
  {
   "cell_type": "code",
   "execution_count": 21,
   "metadata": {},
   "outputs": [],
   "source": [
    "cc_MRO_DVN = ccf(MRO, DVN)"
   ]
  },
  {
   "cell_type": "code",
   "execution_count": 34,
   "metadata": {},
   "outputs": [],
   "source": [
    "cc_MRO_UAL = ccf(MRO, UAL)"
   ]
  },
  {
   "cell_type": "code",
   "execution_count": 35,
   "metadata": {},
   "outputs": [
    {
     "data": {
      "text/plain": [
       "[<matplotlib.lines.Line2D at 0x1033cc690>]"
      ]
     },
     "execution_count": 35,
     "metadata": {},
     "output_type": "execute_result"
    },
    {
     "data": {
      "image/png": "[encoded data removed]",
      "text/plain": [
       "<Figure size 432x288 with 2 Axes>"
      ]
     },
     "metadata": {},
     "output_type": "display_data"
    }
   ],
   "source": [
    "plt.subplot(2,1,1)\n",
    "plt.plot(MRO)\n",
    "plt.plot(DVN)\n",
    "plt.plot(UAL)\n",
    "plt.legend(['MRO', 'DVN', 'UAL'])\n",
    "plt.subplot(2,1,2)\n",
    "plt.plot(cc_MRO_DVN)\n",
    "plt.plot(cc_MRO_UAL)"
   ]
  },
  {
   "cell_type": "code",
   "execution_count": 23,
   "metadata": {},
   "outputs": [
    {
     "data": {
      "text/plain": [
       "0.9873678274312172"
      ]
     },
     "execution_count": 23,
     "metadata": {},
     "output_type": "execute_result"
    }
   ],
   "source": [
    "cc_MRO_DVN[0]"
   ]
  },
  {
   "cell_type": "code",
   "execution_count": null,
   "metadata": {},
   "outputs": [],
   "source": []
  }
 ],
 "metadata": {
  "kernelspec": {
   "display_name": "Python 3",
   "language": "python",
   "name": "python3"
  },
  "language_info": {
   "codemirror_mode": {
    "name": "ipython",
    "version": 3
   },
   "file_extension": ".py",
   "mimetype": "text/x-python",
   "name": "python",
   "nbconvert_exporter": "python",
   "pygments_lexer": "ipython3",
   "version": "3.7.6"
  }
 },
 "nbformat": 4,
 "nbformat_minor": 4
}
